{
 "cells": [
  {
   "cell_type": "code",
   "execution_count": null,
   "metadata": {},
   "outputs": [],
   "source": [
    "from requests import post, get\n",
    "import json\n",
    "\n",
    "TOKEN = \"eyJhbGciOiJIUzI1NiIsInR5cCI6IkpXVCJ9eyJpc3MiOiJjN2ZkNDYzNTQ1ZmU0MTBiOTI5OTdjMzc5MWE4Nzk5YSIsImlhdCI6MTcxODgyNTE4NiwiZXhwIjoyMDM0MTg1MTg2fQ.Yc-CZ8aLKSIq8FAcDh20t8Xa-dQQ7spEYfnBPv3oARc\"\n",
    "\n",
    "\n",
    "\n",
    "url = \"http://10.0.0.240:8123/api/services/switch/toggle\"\n",
    "headers = {\"Authorization\": f\"Bearer {TOKEN}\"}\n",
    "data = {\"entity_id\": \"switch.office_lamp\"}\n",
    "id = \"switch.office_lamp\"\n",
    "\n",
    "response = post(url, headers=headers, json=data, entity_id)\n",
    "print(response.text\n",
    ")\n",
    "\n",
    "\n",
    "\n",
    "\n",
    "# client = Client('10.0.0.240', \"eyJhbGciOiJIUzI1NiIsInR5cCI6IkpXVCJ9.eyJpc3MiOiJjN2ZkNDYzNTQ1ZmU0MTBiOTI5OTdjMzc5MWE4Nzk5YSIsImlhdCI6MTcxODgyNTE4NiwiZXhwIjo\n",
    "#  yMDM0MTg1MTg2fQ.Yc-CZ8aLKSIq8FAcDh20t8Xa-dQQ7spEYfnBPv3oARc\")\n",
    "\n",
    "# client.call_service('switch/toggle', 'office_lamp', entity_id='switch.office_lamp')"
   ]
  }
 ],
 "metadata": {
  "kernelspec": {
   "display_name": "base",
   "language": "python",
   "name": "python3"
  },
  "language_info": {
   "name": "python",
   "version": "3.12.4"
  }
 },
 "nbformat": 4,
 "nbformat_minor": 2
}
